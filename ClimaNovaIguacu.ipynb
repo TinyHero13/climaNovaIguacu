{
  "nbformat": 4,
  "nbformat_minor": 0,
  "metadata": {
    "colab": {
      "name": "ClimaNovaIguacu.ipynb",
      "provenance": [],
      "authorship_tag": "ABX9TyPbLWNPGhCQq4oPaq5O4cNz",
      "include_colab_link": true
    },
    "kernelspec": {
      "name": "python3",
      "display_name": "Python 3"
    },
    "language_info": {
      "name": "python"
    }
  },
  "cells": [
    {
      "cell_type": "markdown",
      "metadata": {
        "id": "view-in-github",
        "colab_type": "text"
      },
      "source": [
        "<a href=\"https://colab.research.google.com/github/TinyHero13/climaNovaIguacu/blob/main/ClimaNovaIguacu.ipynb\" target=\"_parent\"><img src=\"https://colab.research.google.com/assets/colab-badge.svg\" alt=\"Open In Colab\"/></a>"
      ]
    },
    {
      "cell_type": "code",
      "execution_count": null,
      "metadata": {
        "id": "O3BROMJdp5j8"
      },
      "outputs": [],
      "source": [
        "import requests\n",
        "import re\n",
        "import pandas as pd\n",
        "import numpy as np\n",
        "from bs4 import BeautifulSoup\n",
        "from google.colab import files"
      ]
    },
    {
      "cell_type": "code",
      "source": [
        "r = requests.get('https://www.tempo.com/nova-iguacu.htm')\n",
        "soup = BeautifulSoup(r.content, 'html.parser')\n",
        "\n",
        "container = soup.find('span', class_='datos-dos-semanas')\n",
        "\n",
        "day = [d.get_text() for d in container.find_all('span', class_='cuando')]\n",
        "max = [ma.get_text(strip=True) for ma in container.find_all('span', class_='maxima')]\n",
        "min = [mi.get_text() for mi in container.find_all('span', class_='minima')]\n",
        "\n",
        "maxNum = [re.sub(r'[°]','',i) for i in max]\n",
        "minNum = [re.sub(r'[°]','',i) for i in min]\n",
        "\n",
        "maxInt = map(int,maxNum)\n",
        "minInt = map(int,minNum)"
      ],
      "metadata": {
        "id": "tIbyy_TRp9BO"
      },
      "execution_count": null,
      "outputs": []
    },
    {
      "cell_type": "code",
      "source": [
        "weather = pd.DataFrame(\n",
        "    {\n",
        "        'Dia': day,\n",
        "        'Maxima': maxInt,\n",
        "        'Minima': minInt\n",
        "    }\n",
        ")"
      ],
      "metadata": {
        "id": "211SDNZSqNm3"
      },
      "execution_count": null,
      "outputs": []
    },
    {
      "cell_type": "markdown",
      "source": [
        "# Respondendo algumas perguntas:"
      ],
      "metadata": {
        "id": "5Eg0ZlmwqQjv"
      }
    },
    {
      "cell_type": "code",
      "source": [
        "# Qual a média de temperatura máxima durante a semana?\n",
        "round(weather[\"Maxima\"].mean(), 2)"
      ],
      "metadata": {
        "colab": {
          "base_uri": "https://localhost:8080/"
        },
        "id": "q8YIb3PrqTzG",
        "outputId": "75d1d2d1-b6e3-496d-f96e-c8707cd24cf5"
      },
      "execution_count": null,
      "outputs": [
        {
          "output_type": "execute_result",
          "data": {
            "text/plain": [
              "22.86"
            ]
          },
          "metadata": {},
          "execution_count": 13
        }
      ]
    },
    {
      "cell_type": "code",
      "source": [
        "# Qual a média de temperatura mínima durante a semana?\n",
        "round(weather[\"Minima\"].mean(), 2)"
      ],
      "metadata": {
        "colab": {
          "base_uri": "https://localhost:8080/"
        },
        "id": "ZqYsgCDGqyhn",
        "outputId": "3ab1f215-751d-43d1-d2ca-aaf6286c4d44"
      },
      "execution_count": null,
      "outputs": [
        {
          "output_type": "execute_result",
          "data": {
            "text/plain": [
              "15.29"
            ]
          },
          "metadata": {},
          "execution_count": 15
        }
      ]
    },
    {
      "cell_type": "code",
      "source": [
        "# Qual a maior temperatura?\n",
        "weather['Maxima'].max()"
      ],
      "metadata": {
        "colab": {
          "base_uri": "https://localhost:8080/"
        },
        "id": "iAkyS2xoq9IX",
        "outputId": "687f4632-6ef0-4818-e01b-149feb867f16"
      },
      "execution_count": null,
      "outputs": [
        {
          "output_type": "execute_result",
          "data": {
            "text/plain": [
              "29"
            ]
          },
          "metadata": {},
          "execution_count": 16
        }
      ]
    },
    {
      "cell_type": "code",
      "source": [
        "# Qual a menor temperatura?\n",
        "weather['Minima'].min()"
      ],
      "metadata": {
        "colab": {
          "base_uri": "https://localhost:8080/"
        },
        "id": "uZc43HYjrLnY",
        "outputId": "42c82072-5697-4440-cbee-6d7ac54609e4"
      },
      "execution_count": null,
      "outputs": [
        {
          "output_type": "execute_result",
          "data": {
            "text/plain": [
              "12"
            ]
          },
          "metadata": {},
          "execution_count": 17
        }
      ]
    },
    {
      "cell_type": "code",
      "source": [
        "# Transformar o DataFrame em csv e fazer o download do mesmo.\n",
        "from google.colab import files\n",
        "weather.to_csv('weatherNovaIguacu.csv', encoding='utf-8-sig')\n",
        "files.download('weatherweatherNovaIguacu.csv')"
      ],
      "metadata": {
        "id": "l7w4P7pPu0-A"
      },
      "execution_count": null,
      "outputs": []
    }
  ]
}